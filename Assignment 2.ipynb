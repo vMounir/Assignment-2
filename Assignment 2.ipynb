{
 "cells": [
  {
   "cell_type": "markdown",
   "id": "c90d9ecd",
   "metadata": {},
   "source": [
    "# Mahmoud Mounir"
   ]
  },
  {
   "cell_type": "markdown",
   "id": "073ba165",
   "metadata": {},
   "source": [
    "# Assignment 2"
   ]
  },
  {
   "cell_type": "markdown",
   "id": "4bb69153",
   "metadata": {},
   "source": [
    "# Rock & Paper & Scissors"
   ]
  },
  {
   "cell_type": "code",
   "execution_count": 1,
   "id": "6db719e9",
   "metadata": {
    "scrolled": false
   },
   "outputs": [
    {
     "name": "stdout",
     "output_type": "stream",
     "text": [
      "Please Enter a choice (rock, paper, scissors): pa\n",
      "Invalid\n",
      "Please Enter a choice! (rock, paper, scissors): pa\n",
      "Invalid\n",
      "Please Enter a choice! (rock, paper, scissors): paper\n",
      "Your choice is: paper\n",
      "Python choice is: scissors\n",
      "You Lost!\n",
      "Play Again? (y/n)\n",
      "y\n",
      "Please Enter a choice (rock, paper, scissors): rock\n",
      "Your choice is: rock\n",
      "Python choice is: scissors\n",
      "You Win!\n",
      "Play Again? (y/n)\n",
      "n\n"
     ]
    }
   ],
   "source": [
    "import random\n",
    "while True:\n",
    "    UserChoice = input(\"Please Enter a choice (rock, paper, scissors): \")\n",
    "    while (UserChoice != \"rock\") and (UserChoice != \"paper\") and (UserChoice != \"scissors\"):\n",
    "        UserChoice=input(\"Invalid\\nPlease Enter a choice! (rock, paper, scissors): \")\n",
    "    PythonChoice = random.choice([\"rock\",\"paper\",\"scissors\"])\n",
    "    print(f\"Your choice is: {UserChoice}\\nPython choice is: {PythonChoice}\")\n",
    "    if UserChoice == PythonChoice:\n",
    "        print(\"Draw!\")\n",
    "    elif UserChoice == \"rock\" and PythonChoice == \"paper\":\n",
    "        print(\"You Lost!\")\n",
    "    elif UserChoice == \"scissors\" and PythonChoice == \"rock\":\n",
    "        print(\"You Lost!\")\n",
    "    elif UserChoice == \"paper\" and PythonChoice == \"scissors\":\n",
    "        print(\"You Lost!\")\n",
    "    elif UserChoice == \"paper\" and PythonChoice == \"rock\":\n",
    "        print(\"You Win!\")\n",
    "    elif UserChoice == \"rock\" and PythonChoice == \"scissors\":\n",
    "        print(\"You Win!\")\n",
    "    elif UserChoice == \"scissors\" and PythonChoice == \"paper\":\n",
    "        print(\"You Win!\")\n",
    "    Again = input(\"Play Again? (y/n)\\n\")\n",
    "    if Again != \"y\":\n",
    "        break"
   ]
  },
  {
   "cell_type": "markdown",
   "id": "2ea909bc",
   "metadata": {},
   "source": [
    "# Calculator"
   ]
  },
  {
   "cell_type": "code",
   "execution_count": 6,
   "id": "ea348daf",
   "metadata": {},
   "outputs": [
    {
     "name": "stdout",
     "output_type": "stream",
     "text": [
      "Please select operation:\n",
      "1. Add\n",
      "2. Subtract\n",
      "3. Multiply\n",
      "4. Divide\n",
      "5. Check Even and Odd\n",
      "6. Factorial\n",
      "7. Fibonacci\n",
      "Enter Choice 1/2/3/4/5/6/7\n",
      "1\n",
      "How many numbers will you enter: 2\n",
      "Enter Num1: 2\n",
      "Enter Num2: 2\n",
      "4\n",
      "Again? (y/n)\n",
      "y\n",
      "Please select operation:\n",
      "1. Add\n",
      "2. Subtract\n",
      "3. Multiply\n",
      "4. Divide\n",
      "5. Check Even and Odd\n",
      "6. Factorial\n",
      "7. Fibonacci\n",
      "Enter Choice 1/2/3/4/5/6/7\n",
      "8\n",
      "Please Enter a valid choice!\n",
      "1/2/3/4/5/6/7\n",
      "5\n",
      "Enter Num: 5\n",
      "Number 5 is Odd\n",
      "Again? (y/n)\n",
      "n\n"
     ]
    }
   ],
   "source": [
    "while True:\n",
    "    x = {}\n",
    "    i, Result = 0, 0\n",
    "    print(\"Please select operation:\")\n",
    "    print(\"1. Add\")\n",
    "    print(\"2. Subtract\")\n",
    "    print(\"3. Multiply\")\n",
    "    print(\"4. Divide\")\n",
    "    print(\"5. Check Even and Odd\")\n",
    "    print(\"6. Factorial\")\n",
    "    print(\"7. Fibonacci\")\n",
    "    op = int(input(\"Enter Choice 1/2/3/4/5/6/7\\n\"))\n",
    "    while op > 7 or op < 1:\n",
    "        op=int(input(\"Please Enter a valid choice!\\n1/2/3/4/5/6/7\\n\"))\n",
    "    if op < 5:\n",
    "        n = int(input(\"How many numbers will you enter: \"))\n",
    "        for i in range(n):\n",
    "            x[i] = input(f\"Enter Num{i+1}: \")\n",
    "            x[i] = int(x[i])\n",
    "            if i==0:\n",
    "                Result = x[0]\n",
    "            else:\n",
    "                if (op == 1):\n",
    "                    Result = Result + x[i]\n",
    "                elif (op == 2):\n",
    "                    Result = Result - x[i]\n",
    "                elif (op == 3):\n",
    "                    Result = Result * x[i]\n",
    "                else:\n",
    "                    Result = Result / x[i]\n",
    "        print(Result)\n",
    "    else:  \n",
    "        x = input(f\"Enter Num: \")\n",
    "        x = int(x)\n",
    "        if (op == 5):\n",
    "            Result = x%2\n",
    "            if Result == 0:\n",
    "                print(f\"Number {x} is Even\")\n",
    "            else:\n",
    "                print(f\"Number {x} is Odd\")\n",
    "        elif (op == 6):\n",
    "            def Fact(x):\n",
    "                if x==1:\n",
    "                    return 1\n",
    "                else:\n",
    "                    return x*F(x-1)\n",
    "            print(f\"Factorial {x} is {Fact(x)}\")\n",
    "        else:\n",
    "            def Fibo(x):\n",
    "                if x < 0:\n",
    "                    print(\"Invalid\")\n",
    "                elif x == 0:\n",
    "                    return 0\n",
    "                elif x == 1:\n",
    "                    return 1\n",
    "                else:\n",
    "                    return Fibo(x-1) + Fibo(x-2)\n",
    "            print(f\"Fibonacci {x} is {Fibo(x)}\")\n",
    "    Again = input(\"Again? (y/n)\\n\")\n",
    "    if Again != \"y\":\n",
    "        break"
   ]
  },
  {
   "cell_type": "code",
   "execution_count": null,
   "id": "e95ad987",
   "metadata": {},
   "outputs": [],
   "source": []
  }
 ],
 "metadata": {
  "kernelspec": {
   "display_name": "Python 3 (ipykernel)",
   "language": "python",
   "name": "python3"
  },
  "language_info": {
   "codemirror_mode": {
    "name": "ipython",
    "version": 3
   },
   "file_extension": ".py",
   "mimetype": "text/x-python",
   "name": "python",
   "nbconvert_exporter": "python",
   "pygments_lexer": "ipython3",
   "version": "3.10.9"
  }
 },
 "nbformat": 4,
 "nbformat_minor": 5
}
